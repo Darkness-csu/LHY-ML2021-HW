{
 "cells": [
  {
   "cell_type": "markdown",
   "id": "0e0a5cec",
   "metadata": {},
   "source": [
    "# **Homework 2-1 Phoneme Classification**"
   ]
  },
  {
   "cell_type": "markdown",
   "id": "275b0451",
   "metadata": {},
   "source": [
    "## 美国国防部高级研究计划局TIMIT语音连续语料库(TIMIT)\n",
    "TIMIT阅读语音语料库旨在为语音语音知识的获取和自动语音识别系统的开发与评价提供语音数据。\n",
    "\n",
    "这个作业是一个多级分类任务，\n",
    "我们将训练一个深度神经网络分类器，从语音语料库TIMIT中预测每一帧的音素。\n",
    "\n",
    "详情请参考:https://academictorrents.com/details/34e2b78745138186976cbc27939b1b34d18bd5b3"
   ]
  },
  {
   "cell_type": "markdown",
   "id": "0a420c1c",
   "metadata": {},
   "source": [
    "## 导入相关包"
   ]
  },
  {
   "cell_type": "code",
   "execution_count": 1,
   "id": "173641ea",
   "metadata": {},
   "outputs": [],
   "source": [
    "import torch\n",
    "import torch.nn as nn\n",
    "import numpy as np\n",
    "from torch.utils.data import Dataset\n",
    "from torch.utils.data import DataLoader"
   ]
  },
  {
   "cell_type": "markdown",
   "id": "148d4da8",
   "metadata": {},
   "source": [
    "## 辅助函数"
   ]
  },
  {
   "cell_type": "code",
   "execution_count": 2,
   "id": "a11a7d9b",
   "metadata": {},
   "outputs": [],
   "source": [
    "#check device\n",
    "def get_device():\n",
    "    return 'cuda' if torch.cuda.is_available() else 'cpu'\n",
    "\n",
    "# fix random seed\n",
    "def same_seeds(seed):\n",
    "    torch.manual_seed(seed)\n",
    "    if torch.cuda.is_available():\n",
    "        torch.cuda.manual_seed(seed)\n",
    "        torch.cuda.manual_seed_all(seed)  \n",
    "    np.random.seed(seed)  \n",
    "    torch.backends.cudnn.benchmark = False\n",
    "    torch.backends.cudnn.deterministic = True"
   ]
  },
  {
   "cell_type": "markdown",
   "id": "a1aca564",
   "metadata": {},
   "source": [
    "## 准备数据\n",
    "从`.npy`文件(Numpy array)中读取训练数据和测试数据"
   ]
  },
  {
   "cell_type": "code",
   "execution_count": 3,
   "id": "931505a9",
   "metadata": {},
   "outputs": [
    {
     "name": "stdout",
     "output_type": "stream",
     "text": [
      "Loading data ...\n",
      "Size of training data: (1229932, 429)\n",
      "Size of testing data: (451552, 429)\n"
     ]
    }
   ],
   "source": [
    "print('Loading data ...')\n",
    "\n",
    "data_root='./timit_11/'\n",
    "train = np.load(data_root + 'train_11.npy')\n",
    "train_label = np.load(data_root + 'train_label_11.npy')\n",
    "test = np.load(data_root + 'test_11.npy')\n",
    "\n",
    "print('Size of training data: {}'.format(train.shape))\n",
    "print('Size of testing data: {}'.format(test.shape))"
   ]
  },
  {
   "cell_type": "markdown",
   "id": "e82e6583",
   "metadata": {},
   "source": [
    "## 设置超参数\n",
    "`config`中包含了训练所需要的参数以及模块存储的地址"
   ]
  },
  {
   "cell_type": "code",
   "execution_count": 4,
   "id": "26cd6bd5",
   "metadata": {},
   "outputs": [
    {
     "name": "stdout",
     "output_type": "stream",
     "text": [
      "DEVICE: cpu\n"
     ]
    }
   ],
   "source": [
    "# fix random seed for reproducibility\n",
    "same_seeds(0)\n",
    "\n",
    "# get device \n",
    "device = get_device()\n",
    "print(f'DEVICE: {device}')\n",
    "\n",
    "config = {\n",
    "    'val_ratio': 0.2, #validation_data的占比，可调的超参数\n",
    "    'batch_size': 64,\n",
    "    'num_epoch': 20,  # number of training epoch\n",
    "    'learning_rate': 0.0001, # learning rate\n",
    "    'model_path': './model.ckpt'   \n",
    "}"
   ]
  },
  {
   "cell_type": "markdown",
   "id": "1ffde58c",
   "metadata": {},
   "source": [
    "## 创建DataSet\n",
    "这是搭建一个网络所必须的准备工作，数据就是支撑机器成长的必备燃料。"
   ]
  },
  {
   "cell_type": "code",
   "execution_count": 5,
   "id": "73d68343",
   "metadata": {},
   "outputs": [],
   "source": [
    "#规范的做法是封装一个类，进行数据的相关处理\n",
    "class TIMITDataset(Dataset):\n",
    "    def __init__(self, X, y=None):             \n",
    "        self.data = torch.from_numpy(X).float()#Creates a Tensor from a numpy.ndarray.\n",
    "        if y is not None:\n",
    "            y = y.astype(np.int)\n",
    "            self.label = torch.LongTensor(y)\n",
    "        else:\n",
    "            self.label = None\n",
    "\n",
    "    def __getitem__(self, idx):\n",
    "        if self.label is not None:\n",
    "            return self.data[idx], self.label[idx]\n",
    "        else:\n",
    "            return self.data[idx]\n",
    "\n",
    "    def __len__(self):\n",
    "        return len(self.data)"
   ]
  },
  {
   "cell_type": "markdown",
   "id": "76ae3e40",
   "metadata": {},
   "source": [
    "接下来这一步用于在train_data中划分出validation_data"
   ]
  },
  {
   "cell_type": "code",
   "execution_count": 6,
   "id": "6401f406",
   "metadata": {},
   "outputs": [
    {
     "name": "stdout",
     "output_type": "stream",
     "text": [
      "Size of training set: (983945, 429)\n",
      "Size of validation set: (245987, 429)\n"
     ]
    }
   ],
   "source": [
    "percent = int(train.shape[0] * (1 - config['val_ratio']))\n",
    "train_x, train_y, val_x, val_y = train[:percent], train_label[:percent], train[percent:], train_label[percent:]\n",
    "print('Size of training set: {}'.format(train_x.shape))\n",
    "print('Size of validation set: {}'.format(val_x.shape))"
   ]
  },
  {
   "cell_type": "markdown",
   "id": "862994a3",
   "metadata": {},
   "source": [
    "## 创建DataLoader"
   ]
  },
  {
   "cell_type": "code",
   "execution_count": 7,
   "id": "dd015d77",
   "metadata": {},
   "outputs": [
    {
     "name": "stderr",
     "output_type": "stream",
     "text": [
      "C:\\Users\\ADMINI~1\\AppData\\Local\\Temp/ipykernel_11348/3831140761.py:6: DeprecationWarning: `np.int` is a deprecated alias for the builtin `int`. To silence this warning, use `int` by itself. Doing this will not modify any behavior and is safe. When replacing `np.int`, you may wish to use e.g. `np.int64` or `np.int32` to specify the precision. If you wish to review your current use, check the release note link for additional information.\n",
      "Deprecated in NumPy 1.20; for more details and guidance: https://numpy.org/devdocs/release/1.20.0-notes.html#deprecations\n",
      "  y = y.astype(np.int)\n"
     ]
    }
   ],
   "source": [
    "train_set = TIMITDataset(train_x, train_y)\n",
    "val_set = TIMITDataset(val_x, val_y)\n",
    "train_loader = DataLoader(train_set, batch_size=config['batch_size'], shuffle=True) #only shuffle the training data\n",
    "val_loader = DataLoader(val_set, batch_size=config['batch_size'], shuffle=False)"
   ]
  },
  {
   "cell_type": "markdown",
   "id": "aa4e8fa9",
   "metadata": {},
   "source": [
    "## 创建分类模型"
   ]
  },
  {
   "cell_type": "code",
   "execution_count": 8,
   "id": "ca4133c5",
   "metadata": {},
   "outputs": [],
   "source": [
    "class Classifier(nn.Module):\n",
    "    def __init__(self):\n",
    "        super(Classifier, self).__init__()\n",
    "        self.layer = nn.Sequential(\n",
    "            nn.Linear(429, 1024),\n",
    "            nn.Sigmoid(),\n",
    "            nn.Linear(1024, 512),\n",
    "            nn.Sigmoid(),\n",
    "            nn.Linear(512, 128),\n",
    "            nn.Sigmoid(),\n",
    "            nn.Linear(128, 39)\n",
    "            \n",
    "        )\n",
    "\n",
    "    def forward(self, x):\n",
    "        \n",
    "        return self.layer(x)"
   ]
  },
  {
   "cell_type": "markdown",
   "id": "ae6bdb3b",
   "metadata": {},
   "source": [
    "## 训练模块"
   ]
  },
  {
   "cell_type": "code",
   "execution_count": 9,
   "id": "7b5a7830",
   "metadata": {},
   "outputs": [],
   "source": [
    "# create model, define a loss function, and optimizer\n",
    "model = Classifier().to(device)\n",
    "criterion = nn.CrossEntropyLoss() \n",
    "optimizer = torch.optim.Adam(model.parameters(), lr=config['learning_rate'])"
   ]
  },
  {
   "cell_type": "markdown",
   "id": "b81b4c84",
   "metadata": {},
   "source": [
    "## 开始训练"
   ]
  },
  {
   "cell_type": "code",
   "execution_count": 11,
   "id": "8af22439",
   "metadata": {},
   "outputs": [
    {
     "name": "stdout",
     "output_type": "stream",
     "text": [
      "[001/020] Train Acc: 0.594383 Loss: 1.330666 | Val Acc: 0.628639 loss: 1.211098\n",
      "saving model with acc 0.629\n",
      "[002/020] Train Acc: 0.644506 Loss: 1.154064 | Val Acc: 0.660421 loss: 1.101216\n",
      "saving model with acc 0.660\n",
      "[003/020] Train Acc: 0.672216 Loss: 1.052246 | Val Acc: 0.676300 loss: 1.038718\n",
      "saving model with acc 0.676\n",
      "[004/020] Train Acc: 0.691347 Loss: 0.983104 | Val Acc: 0.685154 loss: 1.001852\n",
      "saving model with acc 0.685\n",
      "[005/020] Train Acc: 0.705615 Loss: 0.931955 | Val Acc: 0.689301 loss: 0.984177\n",
      "saving model with acc 0.689\n",
      "[006/020] Train Acc: 0.716344 Loss: 0.891687 | Val Acc: 0.694516 loss: 0.964627\n",
      "saving model with acc 0.695\n",
      "[007/020] Train Acc: 0.725881 Loss: 0.857907 | Val Acc: 0.697720 loss: 0.951889\n",
      "saving model with acc 0.698\n",
      "[008/020] Train Acc: 0.733717 Loss: 0.829495 | Val Acc: 0.696687 loss: 0.949866\n",
      "[009/020] Train Acc: 0.741151 Loss: 0.803701 | Val Acc: 0.699374 loss: 0.944832\n",
      "saving model with acc 0.699\n",
      "[010/020] Train Acc: 0.748050 Loss: 0.781106 | Val Acc: 0.697773 loss: 0.946494\n",
      "[011/020] Train Acc: 0.753793 Loss: 0.760380 | Val Acc: 0.702830 loss: 0.938236\n",
      "saving model with acc 0.703\n",
      "[012/020] Train Acc: 0.759404 Loss: 0.741234 | Val Acc: 0.700456 loss: 0.945627\n",
      "[013/020] Train Acc: 0.764572 Loss: 0.723574 | Val Acc: 0.702155 loss: 0.942118\n",
      "[014/020] Train Acc: 0.769472 Loss: 0.707325 | Val Acc: 0.704427 loss: 0.936154\n",
      "saving model with acc 0.704\n",
      "[015/020] Train Acc: 0.773689 Loss: 0.691314 | Val Acc: 0.701736 loss: 0.945713\n",
      "[016/020] Train Acc: 0.778676 Loss: 0.676633 | Val Acc: 0.701586 loss: 0.953081\n",
      "[017/020] Train Acc: 0.783106 Loss: 0.662425 | Val Acc: 0.699663 loss: 0.963290\n",
      "[018/020] Train Acc: 0.786397 Loss: 0.649180 | Val Acc: 0.700086 loss: 0.957681\n",
      "[019/020] Train Acc: 0.790643 Loss: 0.636623 | Val Acc: 0.699736 loss: 0.964269\n",
      "[020/020] Train Acc: 0.794712 Loss: 0.623686 | Val Acc: 0.694821 loss: 0.981714\n"
     ]
    }
   ],
   "source": [
    "best_acc = 0.0\n",
    "for epoch in range(config['num_epoch']):\n",
    "    train_acc = 0.0\n",
    "    train_loss = 0.0\n",
    "    val_acc = 0.0\n",
    "    val_loss = 0.0\n",
    "\n",
    "    # training\n",
    "    model.train() # set the model to training mode\n",
    "    for i, data in enumerate(train_loader):\n",
    "        inputs, labels = data\n",
    "        inputs, labels = inputs.to(device), labels.to(device)\n",
    "        optimizer.zero_grad() \n",
    "        outputs = model(inputs) \n",
    "        batch_loss = criterion(outputs, labels)\n",
    "        _, train_pred = torch.max(outputs, 1) # get the index of the class with the highest probability\n",
    "                                              #按照习惯，有时候单个独立下划线是用作一个名字，来表示某个变量是临时的或无关紧要的。\n",
    "        batch_loss.backward() \n",
    "        optimizer.step() \n",
    "\n",
    "        train_acc += (train_pred.cpu() == labels.cpu()).sum().item()\n",
    "        train_loss += batch_loss.item()\n",
    "\n",
    "    # validation\n",
    "    if len(val_set) > 0:\n",
    "        model.eval() # set the model to evaluation mode\n",
    "        with torch.no_grad():\n",
    "            for i, data in enumerate(val_loader):\n",
    "                inputs, labels = data\n",
    "                inputs, labels = inputs.to(device), labels.to(device)\n",
    "                outputs = model(inputs)\n",
    "                batch_loss = criterion(outputs, labels) \n",
    "                _, val_pred = torch.max(outputs, 1) \n",
    "            \n",
    "                val_acc += (val_pred.cpu() == labels.cpu()).sum().item() # get the index of the class with the highest probability\n",
    "                val_loss += batch_loss.item()\n",
    "\n",
    "            print('[{:03d}/{:03d}] Train Acc: {:3.6f} Loss: {:3.6f} | Val Acc: {:3.6f} loss: {:3.6f}'.format(\n",
    "                epoch + 1, config['num_epoch'], train_acc/len(train_set), train_loss/len(train_loader), val_acc/len(val_set), val_loss/len(val_loader)\n",
    "            ))\n",
    "\n",
    "            # if the model improves, save a checkpoint at this epoch\n",
    "            if val_acc > best_acc:\n",
    "                best_acc = val_acc\n",
    "                torch.save(model.state_dict(), config['model_path'])\n",
    "                print('saving model with acc {:.3f}'.format(best_acc/len(val_set)))\n",
    "    else:\n",
    "        print('[{:03d}/{:03d}] Train Acc: {:3.6f} Loss: {:3.6f}'.format(\n",
    "            epoch + 1, config['num_epoch'], train_acc/len(train_set), train_loss/len(train_loader)\n",
    "        ))\n",
    "\n",
    "# if not validating, save the last epoch\n",
    "if len(val_set) == 0:\n",
    "    torch.save(model.state_dict(), config['model_path'])\n",
    "    print('saving model at last epoch')"
   ]
  },
  {
   "cell_type": "markdown",
   "id": "ce28ccf5",
   "metadata": {},
   "source": [
    "## 测试\n",
    "创建一个测试集，用来测试我们刚刚保存的模型"
   ]
  },
  {
   "cell_type": "code",
   "execution_count": 12,
   "id": "213dd0a0",
   "metadata": {},
   "outputs": [
    {
     "data": {
      "text/plain": [
       "<All keys matched successfully>"
      ]
     },
     "execution_count": 12,
     "metadata": {},
     "output_type": "execute_result"
    }
   ],
   "source": [
    "# create testing dataset\n",
    "test_set = TIMITDataset(test, None)\n",
    "test_loader = DataLoader(test_set, batch_size=config['batch_size'], shuffle=False)\n",
    "\n",
    "# create model and load weights from checkpoint\n",
    "model = Classifier().to(device)\n",
    "model.load_state_dict(torch.load(config['model_path']))"
   ]
  },
  {
   "cell_type": "code",
   "execution_count": 13,
   "id": "d2d5e344",
   "metadata": {},
   "outputs": [],
   "source": [
    "predict = []\n",
    "model.eval() # set the model to evaluation mode\n",
    "with torch.no_grad():\n",
    "    for i, data in enumerate(test_loader):\n",
    "        inputs = data\n",
    "        inputs = inputs.to(device)\n",
    "        outputs = model(inputs)\n",
    "        _, test_pred = torch.max(outputs, 1) # get the index of the class with the highest probability\n",
    "\n",
    "        for y in test_pred.cpu().numpy():\n",
    "            predict.append(y)"
   ]
  },
  {
   "cell_type": "markdown",
   "id": "d1788c47",
   "metadata": {},
   "source": [
    "将预测结果写入一个`csv`文件"
   ]
  },
  {
   "cell_type": "code",
   "execution_count": 14,
   "id": "b2763e50",
   "metadata": {},
   "outputs": [],
   "source": [
    "with open('prediction.csv', 'w') as f:\n",
    "    f.write('Id,Class\\n')\n",
    "    for i, y in enumerate(predict):\n",
    "        f.write('{},{}\\n'.format(i, y))"
   ]
  }
 ],
 "metadata": {
  "kernelspec": {
   "display_name": "Python 3 (ipykernel)",
   "language": "python",
   "name": "python3"
  },
  "language_info": {
   "codemirror_mode": {
    "name": "ipython",
    "version": 3
   },
   "file_extension": ".py",
   "mimetype": "text/x-python",
   "name": "python",
   "nbconvert_exporter": "python",
   "pygments_lexer": "ipython3",
   "version": "3.8.11"
  }
 },
 "nbformat": 4,
 "nbformat_minor": 5
}
